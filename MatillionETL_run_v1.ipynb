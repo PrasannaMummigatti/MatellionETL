{
 "cells": [
  {
   "cell_type": "code",
   "execution_count": 14,
   "metadata": {},
   "outputs": [
    {
     "name": "stdout",
     "output_type": "stream",
     "text": [
      "<Response [200]>\n"
     ]
    }
   ],
   "source": [
    "import requests\n",
    "params = (\n",
    "    ('groupName', 'techtest'),\n",
    "    ('projectName', 'techtest1'),\n",
    "    ('versionName', 'default'),\n",
    "    ('environmentName', 'test'),\n",
    "    ('jobName', 'Exercise 1'),\n",
    ")\n",
    "response = requests.post('http://34.249.119.22/rest/v0/tasks', params=params, auth=('ec2-user', 'i-098e6e2416e983285'))\n",
    "\n",
    "print (response)\n"
   ]
  },
  {
   "cell_type": "code",
   "execution_count": null,
   "metadata": {},
   "outputs": [],
   "source": []
  }
 ],
 "metadata": {
  "kernelspec": {
   "display_name": "Python 3",
   "language": "python",
   "name": "python3"
  },
  "language_info": {
   "codemirror_mode": {
    "name": "ipython",
    "version": 3
   },
   "file_extension": ".py",
   "mimetype": "text/x-python",
   "name": "python",
   "nbconvert_exporter": "python",
   "pygments_lexer": "ipython3",
   "version": "3.7.3"
  }
 },
 "nbformat": 4,
 "nbformat_minor": 2
}
